{
 "cells": [
  {
   "cell_type": "code",
   "execution_count": 1,
   "metadata": {
    "collapsed": false,
    "scrolled": true
   },
   "outputs": [
    {
     "data": {
      "text/html": [
       "\n",
       "<video width=\"429\" height=\"298\" controls autoplay>\n",
       "  <source src=\"../output/130010006.mp4\" type=\"video/mp4\">\n",
       "</video>\n"
      ],
      "text/plain": [
       "<IPython.core.display.HTML object>"
      ]
     },
     "execution_count": 1,
     "metadata": {},
     "output_type": "execute_result"
    },
    {
     "data": {
      "image/png": "[encoded data removed]",
      "text/plain": [
       "<matplotlib.figure.Figure at 0x7fe03c2e4198>"
      ]
     },
     "metadata": {},
     "output_type": "display_data"
    }
   ],
   "source": [
    "%matplotlib inline\n",
    "import numpy as np \n",
    "from matplotlib import pyplot as plt \n",
    "from matplotlib import animation\n",
    "from scipy.integrate import odeint\n",
    "from IPython.display import HTML\n",
    "from matplotlib import rc\n",
    "import time\n",
    "#Set up the plot details and labels for the animation\n",
    "fig = plt.figure()\n",
    "ax = plt.axes(xlim = (-5,5), ylim = (-5,5))\n",
    "ax.set_xticks(np.arange(-5,5,1))\n",
    "ax.set_yticks(np.arange(-5,5,1))\n",
    "plt.grid()\n",
    "plt.xlabel(\"x\",fontsize = 20)\n",
    "plt.ylabel(\"y\",fontsize = 20)\n",
    "handles = [\"mu = 3\",\"mu = 0.6\"]\n",
    "lines = [plt.plot([],[],lw = 2,label = handles[i])[0] for i in range(2)]\n",
    "fig.legend(lines,handles,loc = \"center right\")\n",
    "fig.suptitle(\"Phase portrait with limit cycle\",fontsize = 24)\n",
    "\n",
    "#Initialise the plot data\n",
    "def init():\n",
    "\tfor line in lines:\n",
    "\t\tline.set_data([],[])\n",
    "\treturn lines\n",
    "\n",
    "#The vanDerPol derivative function using scipy odeint\n",
    "def VDP_Oscillator_derivative(x, t,mu):\n",
    "\tnx0 = x[1]\n",
    "\tnx1 = -mu * (x[0] ** 2.0 - 1.0) * x[1] - x[0]\n",
    "\tres = np.array([nx0, nx1,x[0]])\n",
    "\treturn res\n",
    "\n",
    "#Calling the derivative function for given initial values\n",
    "ts = np.linspace(0.0, 50.0, 5000.0)\n",
    "xs = [odeint(VDP_Oscillator_derivative, [-3.0, -3.0,1.0], ts, args = (3,)),odeint(VDP_Oscillator_derivative, [0.2, 0.0,0.0], ts, args = (0.6,))]\n",
    "\n",
    "#The update function for the animation\n",
    "def update(num,xs,lines):\n",
    "    time.sleep(0.1)\n",
    "    j = 0\n",
    "    for line in lines:\n",
    "        line.set_data(xs[j][:num,0], xs[j][:num,1])\n",
    "        j = j + 1\n",
    "    return lines\n",
    "\n",
    "#Creating the static plot for state space variables\n",
    "xs2 = odeint(VDP_Oscillator_derivative, [-3.0, -3.0,1.0], ts, args = (0.5,))\n",
    "fig2 = plt.figure()\n",
    "plt.grid()\n",
    "ax2 = fig2.add_subplot(111)\n",
    "ax2.set_ylim([-3.0,3.0])\n",
    "plt.xlabel('Time Coordinate', fontsize=18)\n",
    "plt.ylabel('Variable Value', fontsize=18)\n",
    "plt.title('State Variables vs Time (mu = 0.5)', fontsize = 24)\n",
    "ax2.plot(xs2[1000:,0],label = \"x1\")\n",
    "ax2.plot(xs2[1000:,1],label = \"x2\")\n",
    "plt.legend(loc=\"upper right\")\n",
    "plt.savefig(\"vanDerPol_state_space.png\")\n",
    "plt.close()\n",
    "plt.grid()\n",
    "\n",
    "xs3 = odeint(VDP_Oscillator_derivative, [-3.0, -3.0,1.0], ts, args = (0.01,))\n",
    "fig3 = plt.figure()\n",
    "plt.grid()\n",
    "ax3 = fig3.add_subplot(111)\n",
    "ax3.set_ylim([-5.0,5.0])\n",
    "plt.xlabel('X', fontsize=18)\n",
    "plt.ylabel('Y', fontsize=18)\n",
    "plt.title('Phase plot for mu = 0.01', fontsize = 24)\n",
    "ax3.plot(xs3[:,0],xs3[:,1])\n",
    "plt.savefig(\"vanDerPol_phase_1.png\")\n",
    "plt.close()\n",
    "plt.grid()\n",
    "\n",
    "xs4 = odeint(VDP_Oscillator_derivative, [-3.0, -3.0,1.0], ts, args = (2.0,))\n",
    "fig4 = plt.figure()\n",
    "plt.grid()\n",
    "ax4 = fig4.add_subplot(111)\n",
    "ax4.set_ylim([-5.0,5.0])\n",
    "plt.xlabel('X', fontsize=18)\n",
    "plt.ylabel('Y', fontsize=18)\n",
    "plt.title('Phase plot for mu = 2', fontsize = 24)\n",
    "ax4.plot(xs4[:,0],xs4[:,1])\n",
    "plt.savefig(\"vanDerPol_phase_2.png\")\n",
    "plt.close()\n",
    "anim = animation.FuncAnimation(fig, update, np.arange(1,len(xs[0])),init_func = init, fargs=[xs, lines],interval=2, blit=False)\n",
    "\n",
    "#The below two lines can be used to generate the animation, which takes upto 20 minutes\n",
    "#rc('animation', html='html5') \n",
    "#anim\n",
    "\n",
    "#The pregenerated animation has been linked here from the local folder\n",
    "HTML(\"\"\"\n",
    "<video width=\"429\" height=\"298\" controls autoplay>\n",
    "  <source src=\"../output/130010006.mp4\" type=\"video/mp4\">\n",
    "</video>\n",
    "\"\"\")\n",
    "\n"
   ]
  },
  {
   "cell_type": "code",
   "execution_count": null,
   "metadata": {
    "collapsed": true
   },
   "outputs": [],
   "source": []
  },
  {
   "cell_type": "code",
   "execution_count": null,
   "metadata": {
    "collapsed": true
   },
   "outputs": [],
   "source": []
  }
 ],
 "metadata": {
  "anaconda-cloud": {},
  "kernelspec": {
   "display_name": "Python [Root]",
   "language": "python",
   "name": "Python [Root]"
  },
  "language_info": {
   "codemirror_mode": {
    "name": "ipython",
    "version": 3
   },
   "file_extension": ".py",
   "mimetype": "text/x-python",
   "name": "python",
   "nbconvert_exporter": "python",
   "pygments_lexer": "ipython3",
   "version": "3.5.2"
  }
 },
 "nbformat": 4,
 "nbformat_minor": 0
}
