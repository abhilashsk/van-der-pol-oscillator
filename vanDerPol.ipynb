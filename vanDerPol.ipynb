{
 "cells": [
  {
   "cell_type": "code",
   "execution_count": null,
   "metadata": {
    "collapsed": true
   },
   "outputs": [],
   "source": [
    "%matplotlib inline"
   ]
  },
  {
   "cell_type": "code",
   "execution_count": null,
   "metadata": {
    "collapsed": true
   },
   "outputs": [],
   "source": [
    "import numpy as np \n",
    "from matplotlib import pyplot as plt \n",
    "from matplotlib import animation\n",
    "from scipy.integrate import odeint\n",
    "from IPython.display import HTML"
   ]
  },
  {
   "cell_type": "code",
   "execution_count": null,
   "metadata": {
    "collapsed": false
   },
   "outputs": [],
   "source": [
    "#Set up the plot details and labels for the animation\n",
    "fig = plt.figure()\n",
    "ax = plt.axes(xlim = (-5,5), ylim = (-5,5))\n",
    "ax.set_xticks(np.arange(-5,5,1))\n",
    "ax.set_yticks(np.arange(-5,5,1))\n",
    "plt.grid()\n",
    "plt.xlabel(\"x\",fontsize = 20)\n",
    "plt.ylabel(\"y\",fontsize = 20)\n",
    "handles = [\"mu = 3\",\"mu = 0.6\"]\n",
    "lines = [plt.plot([],[],lw = 2,label = handles[i])[0] for i in range(2)]\n",
    "fig.legend(lines,handles,loc = \"center right\")\n",
    "fig.suptitle(\"Phase portrait with limit cycle\",fontsize = 24)"
   ]
  },
  {
   "cell_type": "code",
   "execution_count": null,
   "metadata": {
    "collapsed": true
   },
   "outputs": [],
   "source": [
    "#Initialise the plot data\n",
    "def init():\n",
    "\tfor line in lines:\n",
    "\t\tline.set_data([],[])\n",
    "\treturn lines"
   ]
  },
  {
   "cell_type": "code",
   "execution_count": null,
   "metadata": {
    "collapsed": true
   },
   "outputs": [],
   "source": [
    "#The vanDerPol derivative function using scipy odeint\n",
    "def VDP_Oscillator_derivative(x, t,mu):\n",
    "\tglobal a\n",
    "\tnx0 = x[1]\n",
    "\tnx1 = -mu * (x[0] ** 2.0 - 1.0) * x[1] - x[0]\n",
    "\tres = np.array([nx0, nx1,x[0]])\n",
    "\treturn res"
   ]
  },
  {
   "cell_type": "code",
   "execution_count": null,
   "metadata": {
    "collapsed": true
   },
   "outputs": [],
   "source": [
    "#Calling the derivative function for given initial values\n",
    "ts = np.linspace(0.0, 50.0, 5000.0)\n",
    "xs = [odeint(VDP_Oscillator_derivative, [-3.0, -3.0,1.0], ts, args = (3,)),odeint(VDP_Oscillator_derivative, [0.2, 0.0,0.0], ts, args = (0.6,))]\n"
   ]
  },
  {
   "cell_type": "code",
   "execution_count": null,
   "metadata": {
    "collapsed": true
   },
   "outputs": [],
   "source": [
    "#The update function for the animation\n",
    "def update(num,xs,lines):\n",
    "\tj = 0\n",
    "\n",
    "\tfor line in lines:\n",
    "\t\tline.set_data(xs[j][:num,0], xs[j][:num,1])\n",
    "\t\tj = j + 1\n",
    "\treturn lines"
   ]
  },
  {
   "cell_type": "code",
   "execution_count": null,
   "metadata": {
    "collapsed": true
   },
   "outputs": [],
   "source": [
    "#Creating the static plot for state space variables\n",
    "xs2 = odeint(VDP_Oscillator_derivative, [-3.0, -3.0,1.0], ts, args = (0.5,))\n",
    "fig2 = plt.figure()\n",
    "ax2 = fig2.add_subplot(111)\n",
    "ax2.set_ylim([-3.0,3.0])\n",
    "plt.xlabel('Time Coordinate', fontsize=18)\n",
    "plt.ylabel('Variable Value', fontsize=18)\n",
    "plt.title('State Variables vs Time (mu = 0.5)', fontsize = 24)\n",
    "ax2.plot(xs[1][1000:,0],label = \"x1\")\n",
    "ax2.plot(xs[1][1000:,1],label = \"x2\")\n",
    "plt.legend(loc=\"upper right\")\n",
    "plt.savefig(\"vanDerPol_state_space.png\")\n",
    "plt.close()"
   ]
  },
  {
   "cell_type": "code",
   "execution_count": null,
   "metadata": {
    "collapsed": false
   },
   "outputs": [],
   "source": [
    "anim = animation.FuncAnimation(fig, update, len(xs[0]),init_func = init, fargs=[xs, lines],interval=1, blit=True)\n"
   ]
  },
  {
   "cell_type": "code",
   "execution_count": null,
   "metadata": {
    "collapsed": false
   },
   "outputs": [],
   "source": [
    "HTML(anim.to_html(anim))"
   ]
  },
  {
   "cell_type": "code",
   "execution_count": null,
   "metadata": {
    "collapsed": true
   },
   "outputs": [],
   "source": []
  }
 ],
 "metadata": {
  "anaconda-cloud": {},
  "kernelspec": {
   "display_name": "Python [Root]",
   "language": "python",
   "name": "Python [Root]"
  },
  "language_info": {
   "codemirror_mode": {
    "name": "ipython",
    "version": 3
   },
   "file_extension": ".py",
   "mimetype": "text/x-python",
   "name": "python",
   "nbconvert_exporter": "python",
   "pygments_lexer": "ipython3",
   "version": "3.5.2"
  }
 },
 "nbformat": 4,
 "nbformat_minor": 0
}
